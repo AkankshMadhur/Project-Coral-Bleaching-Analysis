{
 "cells": [
  {
   "cell_type": "code",
   "execution_count": 1,
   "metadata": {},
   "outputs": [
    {
     "name": "stdout",
     "output_type": "stream",
     "text": [
      "^C\n",
      "Note: you may need to restart the kernel to use updated packages.\n"
     ]
    },
    {
     "name": "stdout",
     "output_type": "stream",
     "text": [
      "Requirement already satisfied: pip in c:\\users\\sampreeth\\appdata\\local\\programs\\python\\python312\\lib\\site-packages (24.2)\n"
     ]
    }
   ],
   "source": [
    "\n",
    " pip install --upgrade pip\n"
   ]
  },
  {
   "cell_type": "code",
   "execution_count": 2,
   "metadata": {},
   "outputs": [
    {
     "name": "stdout",
     "output_type": "stream",
     "text": [
      "Requirement already satisfied: pandas in c:\\users\\sampreeth\\appdata\\local\\programs\\python\\python312\\lib\\site-packages (2.2.2)\n",
      "Collecting matplotlib\n",
      "  Downloading matplotlib-3.9.2-cp312-cp312-win_amd64.whl.metadata (11 kB)\n",
      "Requirement already satisfied: requests in c:\\users\\sampreeth\\appdata\\local\\programs\\python\\python312\\lib\\site-packages (2.32.3)\n",
      "Requirement already satisfied: numpy>=1.26.0 in c:\\users\\sampreeth\\appdata\\local\\programs\\python\\python312\\lib\\site-packages (from pandas) (2.0.1)\n",
      "Requirement already satisfied: python-dateutil>=2.8.2 in c:\\users\\sampreeth\\appdata\\local\\programs\\python\\python312\\lib\\site-packages (from pandas) (2.9.0.post0)\n",
      "Requirement already satisfied: pytz>=2020.1 in c:\\users\\sampreeth\\appdata\\local\\programs\\python\\python312\\lib\\site-packages (from pandas) (2024.1)\n",
      "Requirement already satisfied: tzdata>=2022.7 in c:\\users\\sampreeth\\appdata\\local\\programs\\python\\python312\\lib\\site-packages (from pandas) (2024.1)\n",
      "Collecting contourpy>=1.0.1 (from matplotlib)\n",
      "  Using cached contourpy-1.2.1-cp312-cp312-win_amd64.whl.metadata (5.8 kB)\n",
      "Collecting cycler>=0.10 (from matplotlib)\n",
      "  Using cached cycler-0.12.1-py3-none-any.whl.metadata (3.8 kB)\n",
      "Collecting fonttools>=4.22.0 (from matplotlib)\n",
      "  Using cached fonttools-4.53.1-cp312-cp312-win_amd64.whl.metadata (165 kB)\n",
      "Collecting kiwisolver>=1.3.1 (from matplotlib)\n",
      "  Using cached kiwisolver-1.4.5-cp312-cp312-win_amd64.whl.metadata (6.5 kB)\n",
      "Requirement already satisfied: packaging>=20.0 in c:\\users\\sampreeth\\appdata\\local\\programs\\python\\python312\\lib\\site-packages (from matplotlib) (24.1)\n",
      "Collecting pillow>=8 (from matplotlib)\n",
      "  Using cached pillow-10.4.0-cp312-cp312-win_amd64.whl.metadata (9.3 kB)\n",
      "Collecting pyparsing>=2.3.1 (from matplotlib)\n",
      "  Using cached pyparsing-3.1.2-py3-none-any.whl.metadata (5.1 kB)\n",
      "Requirement already satisfied: charset-normalizer<4,>=2 in c:\\users\\sampreeth\\appdata\\local\\programs\\python\\python312\\lib\\site-packages (from requests) (3.3.2)\n",
      "Requirement already satisfied: idna<4,>=2.5 in c:\\users\\sampreeth\\appdata\\local\\programs\\python\\python312\\lib\\site-packages (from requests) (3.7)\n",
      "Requirement already satisfied: urllib3<3,>=1.21.1 in c:\\users\\sampreeth\\appdata\\local\\programs\\python\\python312\\lib\\site-packages (from requests) (2.2.2)\n",
      "Requirement already satisfied: certifi>=2017.4.17 in c:\\users\\sampreeth\\appdata\\local\\programs\\python\\python312\\lib\\site-packages (from requests) (2024.6.2)\n",
      "Requirement already satisfied: six>=1.5 in c:\\users\\sampreeth\\appdata\\local\\programs\\python\\python312\\lib\\site-packages (from python-dateutil>=2.8.2->pandas) (1.16.0)\n",
      "Downloading matplotlib-3.9.2-cp312-cp312-win_amd64.whl (7.8 MB)\n",
      "   ---------------------------------------- 0.0/7.8 MB ? eta -:--:--\n",
      "   ---------------------------------------- 0.0/7.8 MB ? eta -:--:--\n",
      "   - -------------------------------------- 0.3/7.8 MB ? eta -:--:--\n",
      "   -- ------------------------------------- 0.5/7.8 MB 1.9 MB/s eta 0:00:04\n",
      "   ---- ----------------------------------- 0.8/7.8 MB 1.2 MB/s eta 0:00:06\n",
      "   ----- ---------------------------------- 1.0/7.8 MB 1.3 MB/s eta 0:00:06\n",
      "   ------ --------------------------------- 1.3/7.8 MB 1.3 MB/s eta 0:00:06\n",
      "   --------- ------------------------------ 1.8/7.8 MB 1.5 MB/s eta 0:00:05\n",
      "   ---------- ----------------------------- 2.1/7.8 MB 1.5 MB/s eta 0:00:04\n",
      "   ------------- -------------------------- 2.6/7.8 MB 1.5 MB/s eta 0:00:04\n",
      "   -------------- ------------------------- 2.9/7.8 MB 1.5 MB/s eta 0:00:04\n",
      "   ---------------- ----------------------- 3.1/7.8 MB 1.5 MB/s eta 0:00:04\n",
      "   ------------------ --------------------- 3.7/7.8 MB 1.6 MB/s eta 0:00:03\n",
      "   -------------------- ------------------- 3.9/7.8 MB 1.6 MB/s eta 0:00:03\n",
      "   ------------------------ --------------- 4.7/7.8 MB 1.7 MB/s eta 0:00:02\n",
      "   -------------------------- ------------- 5.2/7.8 MB 1.8 MB/s eta 0:00:02\n",
      "   ------------------------------ --------- 6.0/7.8 MB 1.9 MB/s eta 0:00:01\n",
      "   --------------------------------- ------ 6.6/7.8 MB 2.0 MB/s eta 0:00:01\n",
      "   ------------------------------------- -- 7.3/7.8 MB 2.1 MB/s eta 0:00:01\n",
      "   -------------------------------------- - 7.6/7.8 MB 2.1 MB/s eta 0:00:01\n",
      "   ---------------------------------------- 7.8/7.8 MB 2.0 MB/s eta 0:00:00\n",
      "Using cached contourpy-1.2.1-cp312-cp312-win_amd64.whl (189 kB)\n",
      "Using cached cycler-0.12.1-py3-none-any.whl (8.3 kB)\n",
      "Using cached fonttools-4.53.1-cp312-cp312-win_amd64.whl (2.2 MB)\n",
      "Using cached kiwisolver-1.4.5-cp312-cp312-win_amd64.whl (56 kB)\n",
      "Downloading pillow-10.4.0-cp312-cp312-win_amd64.whl (2.6 MB)\n",
      "   ---------------------------------------- 0.0/2.6 MB ? eta -:--:--\n",
      "   -------- ------------------------------- 0.5/2.6 MB 2.4 MB/s eta 0:00:01\n",
      "   -------------------- ------------------- 1.3/2.6 MB 3.1 MB/s eta 0:00:01\n",
      "   ------------------------ --------------- 1.6/2.6 MB 2.5 MB/s eta 0:00:01\n",
      "   ------------------------------------ --- 2.4/2.6 MB 2.9 MB/s eta 0:00:01\n",
      "   ---------------------------------------- 2.6/2.6 MB 2.9 MB/s eta 0:00:00\n",
      "Downloading pyparsing-3.1.2-py3-none-any.whl (103 kB)\n",
      "Installing collected packages: pyparsing, pillow, kiwisolver, fonttools, cycler, contourpy, matplotlib\n",
      "Successfully installed contourpy-1.2.1 cycler-0.12.1 fonttools-4.53.1 kiwisolver-1.4.5 matplotlib-3.9.2 pillow-10.4.0 pyparsing-3.1.2\n",
      "Note: you may need to restart the kernel to use updated packages.\n"
     ]
    }
   ],
   "source": [
    "pip install pandas matplotlib requests"
   ]
  },
  {
   "cell_type": "code",
   "execution_count": 14,
   "metadata": {},
   "outputs": [
    {
     "name": "stderr",
     "output_type": "stream",
     "text": [
      "C:\\Users\\Sampreeth\\AppData\\Local\\Temp\\ipykernel_12840\\3643833776.py:8: FutureWarning: The 'delim_whitespace' keyword in pd.read_csv is deprecated and will be removed in a future version. Use ``sep='\\s+'`` instead\n",
      "  data = pd.read_csv(url, delim_whitespace=True, skiprows=[1], header=0)\n"
     ]
    },
    {
     "name": "stdout",
     "output_type": "stream",
     "text": [
      "    #YY  MM  DD  hh  mm WDIR  WSPD GST WVHT DPD APD MWD PRES  ATMP  WTMP DEWP  \\\n",
      "0  2024   8  17   3   0  287   9.1  MM   MM  MM  MM  MM   MM  27.2  28.9   MM   \n",
      "1  2024   8  16  23   0  276  10.8  MM   MM  MM  MM  MM   MM  29.1  29.0   MM   \n",
      "2  2024   8  16  20   0  275   9.4  MM   MM  MM  MM  MM   MM  28.4  29.0   MM   \n",
      "3  2024   8  16  17   0  284   8.3  MM   MM  MM  MM  MM   MM  29.2  29.0   MM   \n",
      "4  2024   8  16  16   0  282   8.9  MM   MM  MM  MM  MM   MM  29.2  29.0   MM   \n",
      "\n",
      "  VIS PTDY TIDE  \n",
      "0  MM   MM   MM  \n",
      "1  MM   MM   MM  \n",
      "2  MM   MM   MM  \n",
      "3  MM   MM   MM  \n",
      "4  MM   MM   MM  \n"
     ]
    }
   ],
   "source": [
    "import pandas as pd\n",
    "\n",
    "# Replace with your actual station ID\n",
    "station_id = '23012'\n",
    "url = f\"https://www.ndbc.noaa.gov/data/realtime2/{station_id}.txt\"\n",
    "\n",
    "# Read the data into a pandas DataFrame\n",
    "data = pd.read_csv(url, delim_whitespace=True, skiprows=[1], header=0)\n",
    "\n",
    "# Display the first few rows of the dataset\n",
    "print(data.head())\n"
   ]
  },
  {
   "cell_type": "code",
   "execution_count": 2,
   "metadata": {},
   "outputs": [
    {
     "name": "stdout",
     "output_type": "stream",
     "text": [
      "    #YY  MM  DD  hh  mm WDIR  WSPD GST WVHT DPD APD MWD PRES  ATMP  WTMP DEWP  \\\n",
      "0  2024   8  17   3   0  287   9.1  MM   MM  MM  MM  MM   MM  27.2  28.9   MM   \n",
      "1  2024   8  16  23   0  276  10.8  MM   MM  MM  MM  MM   MM  29.1  29.0   MM   \n",
      "2  2024   8  16  20   0  275   9.4  MM   MM  MM  MM  MM   MM  28.4  29.0   MM   \n",
      "3  2024   8  16  17   0  284   8.3  MM   MM  MM  MM  MM   MM  29.2  29.0   MM   \n",
      "4  2024   8  16  16   0  282   8.9  MM   MM  MM  MM  MM   MM  29.2  29.0   MM   \n",
      "\n",
      "  VIS PTDY TIDE  \n",
      "0  MM   MM   MM  \n",
      "1  MM   MM   MM  \n",
      "2  MM   MM   MM  \n",
      "3  MM   MM   MM  \n",
      "4  MM   MM   MM  \n",
      "#YY     0\n",
      "MM      0\n",
      "DD      0\n",
      "hh      0\n",
      "mm      0\n",
      "WDIR    0\n",
      "WSPD    0\n",
      "GST     0\n",
      "WVHT    0\n",
      "DPD     0\n",
      "APD     0\n",
      "MWD     0\n",
      "PRES    0\n",
      "ATMP    0\n",
      "WTMP    0\n",
      "DEWP    0\n",
      "VIS     0\n",
      "PTDY    0\n",
      "TIDE    0\n",
      "dtype: int64\n",
      "          #YY    MM         DD         hh    mm\n",
      "count    51.0  51.0  51.000000  51.000000  51.0\n",
      "mean   2024.0   8.0  14.333333  11.372549   0.0\n",
      "std       0.0   0.0   1.366260   6.449685   0.0\n",
      "min    2024.0   8.0  11.000000   2.000000   0.0\n",
      "25%    2024.0   8.0  13.000000   5.000000   0.0\n",
      "50%    2024.0   8.0  14.000000  12.000000   0.0\n",
      "75%    2024.0   8.0  15.500000  16.000000   0.0\n",
      "max    2024.0   8.0  17.000000  23.000000   0.0\n"
     ]
    }
   ],
   "source": [
    "# Display the first few rows of the data\n",
    "print(data.head())\n",
    "\n",
    "# Check for any missing values in the dataset\n",
    "print(data.isnull().sum())\n",
    "\n",
    "# Get a summary of the dataset (e.g., min, max, mean values)\n",
    "print(data.describe())\n"
   ]
  },
  {
   "cell_type": "code",
   "execution_count": 3,
   "metadata": {},
   "outputs": [
    {
     "ename": "KeyError",
     "evalue": "\"['YY'] not in index\"",
     "output_type": "error",
     "traceback": [
      "\u001b[1;31m---------------------------------------------------------------------------\u001b[0m",
      "\u001b[1;31mKeyError\u001b[0m                                  Traceback (most recent call last)",
      "Cell \u001b[1;32mIn[3], line 2\u001b[0m\n\u001b[0;32m      1\u001b[0m \u001b[38;5;66;03m# Combine date and time columns into a single datetime column\u001b[39;00m\n\u001b[1;32m----> 2\u001b[0m data[\u001b[38;5;124m'\u001b[39m\u001b[38;5;124mdatetime\u001b[39m\u001b[38;5;124m'\u001b[39m] \u001b[38;5;241m=\u001b[39m pd\u001b[38;5;241m.\u001b[39mto_datetime(\u001b[43mdata\u001b[49m\u001b[43m[\u001b[49m\u001b[43m[\u001b[49m\u001b[38;5;124;43m'\u001b[39;49m\u001b[38;5;124;43mYY\u001b[39;49m\u001b[38;5;124;43m'\u001b[39;49m\u001b[43m,\u001b[49m\u001b[43m \u001b[49m\u001b[38;5;124;43m'\u001b[39;49m\u001b[38;5;124;43mMM\u001b[39;49m\u001b[38;5;124;43m'\u001b[39;49m\u001b[43m,\u001b[49m\u001b[43m \u001b[49m\u001b[38;5;124;43m'\u001b[39;49m\u001b[38;5;124;43mDD\u001b[39;49m\u001b[38;5;124;43m'\u001b[39;49m\u001b[43m,\u001b[49m\u001b[43m \u001b[49m\u001b[38;5;124;43m'\u001b[39;49m\u001b[38;5;124;43mhh\u001b[39;49m\u001b[38;5;124;43m'\u001b[39;49m\u001b[43m,\u001b[49m\u001b[43m \u001b[49m\u001b[38;5;124;43m'\u001b[39;49m\u001b[38;5;124;43mmm\u001b[39;49m\u001b[38;5;124;43m'\u001b[39;49m\u001b[43m]\u001b[49m\u001b[43m]\u001b[49m\u001b[38;5;241m.\u001b[39mastype(\u001b[38;5;28mstr\u001b[39m)\u001b[38;5;241m.\u001b[39magg(\u001b[38;5;124m'\u001b[39m\u001b[38;5;124m-\u001b[39m\u001b[38;5;124m'\u001b[39m\u001b[38;5;241m.\u001b[39mjoin, axis\u001b[38;5;241m=\u001b[39m\u001b[38;5;241m1\u001b[39m), \u001b[38;5;28mformat\u001b[39m\u001b[38;5;241m=\u001b[39m\u001b[38;5;124m'\u001b[39m\u001b[38;5;124m%\u001b[39m\u001b[38;5;124mY-\u001b[39m\u001b[38;5;124m%\u001b[39m\u001b[38;5;124mm-\u001b[39m\u001b[38;5;132;01m%d\u001b[39;00m\u001b[38;5;124m-\u001b[39m\u001b[38;5;124m%\u001b[39m\u001b[38;5;124mH-\u001b[39m\u001b[38;5;124m%\u001b[39m\u001b[38;5;124mM\u001b[39m\u001b[38;5;124m'\u001b[39m)\n\u001b[0;32m      4\u001b[0m \u001b[38;5;66;03m# Drop the original date and time columns if no longer needed\u001b[39;00m\n\u001b[0;32m      5\u001b[0m data\u001b[38;5;241m.\u001b[39mdrop([\u001b[38;5;124m'\u001b[39m\u001b[38;5;124mYY\u001b[39m\u001b[38;5;124m'\u001b[39m, \u001b[38;5;124m'\u001b[39m\u001b[38;5;124mMM\u001b[39m\u001b[38;5;124m'\u001b[39m, \u001b[38;5;124m'\u001b[39m\u001b[38;5;124mDD\u001b[39m\u001b[38;5;124m'\u001b[39m, \u001b[38;5;124m'\u001b[39m\u001b[38;5;124mhh\u001b[39m\u001b[38;5;124m'\u001b[39m, \u001b[38;5;124m'\u001b[39m\u001b[38;5;124mmm\u001b[39m\u001b[38;5;124m'\u001b[39m], axis\u001b[38;5;241m=\u001b[39m\u001b[38;5;241m1\u001b[39m, inplace\u001b[38;5;241m=\u001b[39m\u001b[38;5;28;01mTrue\u001b[39;00m)\n",
      "File \u001b[1;32mc:\\Users\\Sampreeth\\AppData\\Local\\Programs\\Python\\Python312\\Lib\\site-packages\\pandas\\core\\frame.py:4108\u001b[0m, in \u001b[0;36mDataFrame.__getitem__\u001b[1;34m(self, key)\u001b[0m\n\u001b[0;32m   4106\u001b[0m     \u001b[38;5;28;01mif\u001b[39;00m is_iterator(key):\n\u001b[0;32m   4107\u001b[0m         key \u001b[38;5;241m=\u001b[39m \u001b[38;5;28mlist\u001b[39m(key)\n\u001b[1;32m-> 4108\u001b[0m     indexer \u001b[38;5;241m=\u001b[39m \u001b[38;5;28;43mself\u001b[39;49m\u001b[38;5;241;43m.\u001b[39;49m\u001b[43mcolumns\u001b[49m\u001b[38;5;241;43m.\u001b[39;49m\u001b[43m_get_indexer_strict\u001b[49m\u001b[43m(\u001b[49m\u001b[43mkey\u001b[49m\u001b[43m,\u001b[49m\u001b[43m \u001b[49m\u001b[38;5;124;43m\"\u001b[39;49m\u001b[38;5;124;43mcolumns\u001b[39;49m\u001b[38;5;124;43m\"\u001b[39;49m\u001b[43m)\u001b[49m[\u001b[38;5;241m1\u001b[39m]\n\u001b[0;32m   4110\u001b[0m \u001b[38;5;66;03m# take() does not accept boolean indexers\u001b[39;00m\n\u001b[0;32m   4111\u001b[0m \u001b[38;5;28;01mif\u001b[39;00m \u001b[38;5;28mgetattr\u001b[39m(indexer, \u001b[38;5;124m\"\u001b[39m\u001b[38;5;124mdtype\u001b[39m\u001b[38;5;124m\"\u001b[39m, \u001b[38;5;28;01mNone\u001b[39;00m) \u001b[38;5;241m==\u001b[39m \u001b[38;5;28mbool\u001b[39m:\n",
      "File \u001b[1;32mc:\\Users\\Sampreeth\\AppData\\Local\\Programs\\Python\\Python312\\Lib\\site-packages\\pandas\\core\\indexes\\base.py:6200\u001b[0m, in \u001b[0;36mIndex._get_indexer_strict\u001b[1;34m(self, key, axis_name)\u001b[0m\n\u001b[0;32m   6197\u001b[0m \u001b[38;5;28;01melse\u001b[39;00m:\n\u001b[0;32m   6198\u001b[0m     keyarr, indexer, new_indexer \u001b[38;5;241m=\u001b[39m \u001b[38;5;28mself\u001b[39m\u001b[38;5;241m.\u001b[39m_reindex_non_unique(keyarr)\n\u001b[1;32m-> 6200\u001b[0m \u001b[38;5;28;43mself\u001b[39;49m\u001b[38;5;241;43m.\u001b[39;49m\u001b[43m_raise_if_missing\u001b[49m\u001b[43m(\u001b[49m\u001b[43mkeyarr\u001b[49m\u001b[43m,\u001b[49m\u001b[43m \u001b[49m\u001b[43mindexer\u001b[49m\u001b[43m,\u001b[49m\u001b[43m \u001b[49m\u001b[43maxis_name\u001b[49m\u001b[43m)\u001b[49m\n\u001b[0;32m   6202\u001b[0m keyarr \u001b[38;5;241m=\u001b[39m \u001b[38;5;28mself\u001b[39m\u001b[38;5;241m.\u001b[39mtake(indexer)\n\u001b[0;32m   6203\u001b[0m \u001b[38;5;28;01mif\u001b[39;00m \u001b[38;5;28misinstance\u001b[39m(key, Index):\n\u001b[0;32m   6204\u001b[0m     \u001b[38;5;66;03m# GH 42790 - Preserve name from an Index\u001b[39;00m\n",
      "File \u001b[1;32mc:\\Users\\Sampreeth\\AppData\\Local\\Programs\\Python\\Python312\\Lib\\site-packages\\pandas\\core\\indexes\\base.py:6252\u001b[0m, in \u001b[0;36mIndex._raise_if_missing\u001b[1;34m(self, key, indexer, axis_name)\u001b[0m\n\u001b[0;32m   6249\u001b[0m     \u001b[38;5;28;01mraise\u001b[39;00m \u001b[38;5;167;01mKeyError\u001b[39;00m(\u001b[38;5;124mf\u001b[39m\u001b[38;5;124m\"\u001b[39m\u001b[38;5;124mNone of [\u001b[39m\u001b[38;5;132;01m{\u001b[39;00mkey\u001b[38;5;132;01m}\u001b[39;00m\u001b[38;5;124m] are in the [\u001b[39m\u001b[38;5;132;01m{\u001b[39;00maxis_name\u001b[38;5;132;01m}\u001b[39;00m\u001b[38;5;124m]\u001b[39m\u001b[38;5;124m\"\u001b[39m)\n\u001b[0;32m   6251\u001b[0m not_found \u001b[38;5;241m=\u001b[39m \u001b[38;5;28mlist\u001b[39m(ensure_index(key)[missing_mask\u001b[38;5;241m.\u001b[39mnonzero()[\u001b[38;5;241m0\u001b[39m]]\u001b[38;5;241m.\u001b[39munique())\n\u001b[1;32m-> 6252\u001b[0m \u001b[38;5;28;01mraise\u001b[39;00m \u001b[38;5;167;01mKeyError\u001b[39;00m(\u001b[38;5;124mf\u001b[39m\u001b[38;5;124m\"\u001b[39m\u001b[38;5;132;01m{\u001b[39;00mnot_found\u001b[38;5;132;01m}\u001b[39;00m\u001b[38;5;124m not in index\u001b[39m\u001b[38;5;124m\"\u001b[39m)\n",
      "\u001b[1;31mKeyError\u001b[0m: \"['YY'] not in index\""
     ]
    }
   ],
   "source": [
    "# Combine date and time columns into a single datetime column\n",
    "data['datetime'] = pd.to_datetime(data[['YY', 'MM', 'DD', 'hh', 'mm']].astype(str).agg('-'.join, axis=1), format='%Y-%m-%d-%H-%M')\n",
    "\n",
    "# Drop the original date and time columns if no longer needed\n",
    "data.drop(['YY', 'MM', 'DD', 'hh', 'mm'], axis=1, inplace=True)\n",
    "\n",
    "# Set the datetime as the index (optional but helpful for time series analysis)\n",
    "data.set_index('datetime', inplace=True)\n",
    "\n",
    "# Display the updated DataFrame\n",
    "print(data.head())\n",
    "\n"
   ]
  },
  {
   "cell_type": "code",
   "execution_count": 5,
   "metadata": {},
   "outputs": [
    {
     "name": "stdout",
     "output_type": "stream",
     "text": [
      "Index(['#YY', 'MM', 'DD', 'hh', 'mm', 'WDIR', 'WSPD', 'GST', 'WVHT', 'DPD',\n",
      "       'APD', 'MWD', 'PRES', 'ATMP', 'WTMP', 'DEWP', 'VIS', 'PTDY', 'TIDE'],\n",
      "      dtype='object')\n"
     ]
    }
   ],
   "source": [
    "# Check the actual column names in the DataFrame\n",
    "print(data.columns)\n"
   ]
  },
  {
   "cell_type": "code",
   "execution_count": 6,
   "metadata": {},
   "outputs": [
    {
     "name": "stderr",
     "output_type": "stream",
     "text": [
      "C:\\Users\\Sampreeth\\AppData\\Local\\Temp\\ipykernel_12840\\2680232596.py:8: FutureWarning: The 'delim_whitespace' keyword in pd.read_csv is deprecated and will be removed in a future version. Use ``sep='\\s+'`` instead\n",
      "  data = pd.read_csv(url, delim_whitespace=True, skiprows=[1], header=0)\n"
     ]
    },
    {
     "name": "stdout",
     "output_type": "stream",
     "text": [
      "                    WDIR  WSPD GST WVHT DPD APD MWD PRES  ATMP  WTMP DEWP VIS  \\\n",
      "datetime                                                                        \n",
      "2024-08-17 03:00:00  287   9.1  MM   MM  MM  MM  MM   MM  27.2  28.9   MM  MM   \n",
      "2024-08-16 23:00:00  276  10.8  MM   MM  MM  MM  MM   MM  29.1  29.0   MM  MM   \n",
      "2024-08-16 20:00:00  275   9.4  MM   MM  MM  MM  MM   MM  28.4  29.0   MM  MM   \n",
      "2024-08-16 17:00:00  284   8.3  MM   MM  MM  MM  MM   MM  29.2  29.0   MM  MM   \n",
      "2024-08-16 16:00:00  282   8.9  MM   MM  MM  MM  MM   MM  29.2  29.0   MM  MM   \n",
      "\n",
      "                    PTDY TIDE  \n",
      "datetime                       \n",
      "2024-08-17 03:00:00   MM   MM  \n",
      "2024-08-16 23:00:00   MM   MM  \n",
      "2024-08-16 20:00:00   MM   MM  \n",
      "2024-08-16 17:00:00   MM   MM  \n",
      "2024-08-16 16:00:00   MM   MM  \n"
     ]
    }
   ],
   "source": [
    "import pandas as pd\n",
    "\n",
    "# Replace with your actual station ID\n",
    "station_id = '23012'\n",
    "url = f\"https://www.ndbc.noaa.gov/data/realtime2/{station_id}.txt\"\n",
    "\n",
    "# Read the data into a pandas DataFrame\n",
    "data = pd.read_csv(url, delim_whitespace=True, skiprows=[1], header=0)\n",
    "\n",
    "# Combine date and time columns into a single datetime column\n",
    "data['datetime'] = pd.to_datetime(data[['#YY', 'MM', 'DD', 'hh', 'mm']].astype(str).agg('-'.join, axis=1), format='%Y-%m-%d-%H-%M')\n",
    "\n",
    "# Drop the original date and time columns if no longer needed\n",
    "data.drop(['#YY', 'MM', 'DD', 'hh', 'mm'], axis=1, inplace=True)\n",
    "\n",
    "# Set the datetime column as the index\n",
    "data.set_index('datetime', inplace=True)\n",
    "\n",
    "# Display the first few rows to confirm the changes\n",
    "print(data.head())\n"
   ]
  },
  {
   "cell_type": "code",
   "execution_count": 9,
   "metadata": {},
   "outputs": [
    {
     "name": "stderr",
     "output_type": "stream",
     "text": [
      "C:\\Users\\Sampreeth\\AppData\\Local\\Temp\\ipykernel_12840\\1435813697.py:8: FutureWarning: DataFrame.fillna with 'method' is deprecated and will raise in a future version. Use obj.ffill() or obj.bfill() instead.\n",
      "  data.fillna(method='ffill', inplace=True)  # Forward fill\n"
     ]
    }
   ],
   "source": [
    "# Replace 'MM' with NaN\n",
    "data.replace('MM', pd.NA, inplace=True)\n",
    "\n",
    "# Optionally, you can drop rows with NaN values\n",
    "data.dropna(inplace=True)\n",
    "\n",
    "# Or fill missing values with a specific value (e.g., mean or 0)\n",
    "data.fillna(method='ffill', inplace=True)  # Forward fill\n"
   ]
  },
  {
   "cell_type": "code",
   "execution_count": 12,
   "metadata": {},
   "outputs": [
    {
     "name": "stdout",
     "output_type": "stream",
     "text": [
      "Empty DataFrame\n",
      "Columns: [WDIR, WSPD, GST, WVHT, DPD, APD, MWD, PRES, ATMP, WTMP, DEWP, VIS, PTDY, TIDE]\n",
      "Index: []\n"
     ]
    }
   ],
   "source": [
    "# Forward fill missing values\n",
    "data.ffill(inplace=True)\n",
    "print(data)\n"
   ]
  },
  {
   "cell_type": "code",
   "execution_count": 13,
   "metadata": {},
   "outputs": [
    {
     "name": "stderr",
     "output_type": "stream",
     "text": [
      "C:\\Users\\Sampreeth\\AppData\\Local\\Temp\\ipykernel_12840\\170064248.py:8: FutureWarning: The 'delim_whitespace' keyword in pd.read_csv is deprecated and will be removed in a future version. Use ``sep='\\s+'`` instead\n",
      "  data = pd.read_csv(url, delim_whitespace=True, skiprows=[1], header=0)\n"
     ]
    },
    {
     "name": "stdout",
     "output_type": "stream",
     "text": [
      "Empty DataFrame\n",
      "Columns: [WDIR, WSPD, GST, WVHT, DPD, APD, MWD, PRES, ATMP, WTMP, DEWP, VIS, PTDY, TIDE]\n",
      "Index: []\n"
     ]
    }
   ],
   "source": [
    "import pandas as pd\n",
    "\n",
    "# Replace with your actual station ID\n",
    "station_id = '23012'\n",
    "url = f\"https://www.ndbc.noaa.gov/data/realtime2/{station_id}.txt\"\n",
    "\n",
    "# Read the data into a pandas DataFrame\n",
    "data = pd.read_csv(url, delim_whitespace=True, skiprows=[1], header=0)\n",
    "\n",
    "# Combine date and time columns into a single datetime column\n",
    "data['datetime'] = pd.to_datetime(data[['#YY', 'MM', 'DD', 'hh', 'mm']].astype(str).agg('-'.join, axis=1), format='%Y-%m-%d-%H-%M')\n",
    "\n",
    "# Drop the original date and time columns\n",
    "data.drop(['#YY', 'MM', 'DD', 'hh', 'mm'], axis=1, inplace=True)\n",
    "\n",
    "# Set the datetime column as the index\n",
    "data.set_index('datetime', inplace=True)\n",
    "\n",
    "# Replace 'MM' with NaN\n",
    "data.replace('MM', pd.NA, inplace=True)\n",
    "\n",
    "# Drop rows with missing values\n",
    "data.dropna(inplace=True)\n",
    "\n",
    "# Forward fill missing values (if any remain after dropping rows)\n",
    "data.ffill(inplace=True)\n",
    "\n",
    "# Display the cleaned DataFrame\n",
    "print(data.head())\n"
   ]
  }
 ],
 "metadata": {
  "kernelspec": {
   "display_name": "Python 3",
   "language": "python",
   "name": "python3"
  },
  "language_info": {
   "codemirror_mode": {
    "name": "ipython",
    "version": 3
   },
   "file_extension": ".py",
   "mimetype": "text/x-python",
   "name": "python",
   "nbconvert_exporter": "python",
   "pygments_lexer": "ipython3",
   "version": "3.12.4"
  }
 },
 "nbformat": 4,
 "nbformat_minor": 2
}
